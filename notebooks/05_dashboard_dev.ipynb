{
 "cells": [
  {
   "cell_type": "markdown",
   "id": "7385e392",
   "metadata": {},
   "source": [
    "# 05 - Dashboard Development"
   ]
  },
  {
   "cell_type": "markdown",
   "id": "14748e80",
   "metadata": {},
   "source": [
    "## Introduction\n",
    "\n",
    "This notebook focuses on building an interactive dashboard to help decision-makers at Corporación Favorita visually explore sales forecasts, performance trends, and stock planning indicators across stores and product families.\n",
    "\n",
    "### Objectives \n",
    "\n",
    "The goal is to translate our forecasting results and business insights into a user-friendly interface that supports:\n",
    "\n",
    "- **Inventory planning**: Highlighting high-risk product/store combinations\n",
    "- **Promotion effectiveness**: Visualizing the impact of promotions on sales\n",
    "- **Forecast reliability**: Displaying error distributions and confidence levels\n",
    "- **Geographic insight**: Mapping store performance by city or region\n",
    "\n",
    "The dashboard aims to provide **actionable analytics** that assist planners and managers in making better stocking and replenishment decisions—quickly, and with confidence.\n"
   ]
  },
  {
   "cell_type": "markdown",
   "id": "725ff736",
   "metadata": {},
   "source": [
    "## 1. Import and Load Data"
   ]
  },
  {
   "cell_type": "code",
   "execution_count": 15,
   "id": "02a44e9e",
   "metadata": {},
   "outputs": [
    {
     "name": "stderr",
     "output_type": "stream",
     "text": [
      "2025-05-21 05:34:20.584 Thread 'MainThread': missing ScriptRunContext! This warning can be ignored when running in bare mode.\n",
      "2025-05-21 05:34:20.585 Thread 'MainThread': missing ScriptRunContext! This warning can be ignored when running in bare mode.\n",
      "2025-05-21 05:34:20.586 Thread 'MainThread': missing ScriptRunContext! This warning can be ignored when running in bare mode.\n"
     ]
    },
    {
     "data": {
      "text/plain": [
       "DeltaGenerator()"
      ]
     },
     "execution_count": 15,
     "metadata": {},
     "output_type": "execute_result"
    }
   ],
   "source": [
    "# --- Import core libraries ---\n",
    "import pandas as pd\n",
    "import plotly.express as px\n",
    "import streamlit as st\n",
    "import matplotlib.pyplot as plt\n",
    "import seaborn as sns\n",
    "\n",
    "# --- Load data ---\n",
    "forecast_df = pd.read_csv(\"../forecasts/forecast_results.csv\")\n",
    "actual_df = pd.read_csv(\"../data/train.csv\")\n",
    "store_meta = pd.read_csv(\"../data/stores.csv\")\n",
    "\n",
    "# --- Prepare date columns ---\n",
    "forecast_df['ds'] = pd.to_datetime(forecast_df['ds'])\n",
    "actual_df['date'] = pd.to_datetime(actual_df['date'])\n",
    "\n",
    "# --- Streamlit page config ---\n",
    "st.set_page_config(page_title=\"Sales Forecast Dashboard\", layout=\"wide\")\n",
    "st.title(\"Sales Forecast Dashboard - Corporación Favorita\")\n"
   ]
  },
  {
   "cell_type": "markdown",
   "id": "b578625d",
   "metadata": {},
   "source": [
    "## 2. Implement Filters"
   ]
  },
  {
   "cell_type": "markdown",
   "id": "38f9fd28",
   "metadata": {},
   "source": [
    "\n",
    "Use the filters in the sidebar to explore forecasts by **store**, **product family**, and **forecast date range**.  \n",
    "This interactive view helps stakeholders examine specific segments, identify periods with **promotions** or **holidays**, and assess their impact on forecast accuracy and inventory needs.\n"
   ]
  },
  {
   "cell_type": "code",
   "execution_count": null,
   "id": "a469ceb7",
   "metadata": {},
   "outputs": [
    {
     "name": "stderr",
     "output_type": "stream",
     "text": [
      "2025-05-21 05:34:20.594 Thread 'MainThread': missing ScriptRunContext! This warning can be ignored when running in bare mode.\n",
      "2025-05-21 05:34:20.595 Thread 'MainThread': missing ScriptRunContext! This warning can be ignored when running in bare mode.\n",
      "2025-05-21 05:34:20.598 Thread 'MainThread': missing ScriptRunContext! This warning can be ignored when running in bare mode.\n",
      "2025-05-21 05:34:20.599 Thread 'MainThread': missing ScriptRunContext! This warning can be ignored when running in bare mode.\n",
      "2025-05-21 05:34:20.599 Thread 'MainThread': missing ScriptRunContext! This warning can be ignored when running in bare mode.\n",
      "2025-05-21 05:34:20.599 Thread 'MainThread': missing ScriptRunContext! This warning can be ignored when running in bare mode.\n",
      "2025-05-21 05:34:20.600 Thread 'MainThread': missing ScriptRunContext! This warning can be ignored when running in bare mode.\n",
      "2025-05-21 05:34:20.600 Thread 'MainThread': missing ScriptRunContext! This warning can be ignored when running in bare mode.\n",
      "2025-05-21 05:34:20.600 Thread 'MainThread': missing ScriptRunContext! This warning can be ignored when running in bare mode.\n",
      "2025-05-21 05:34:20.601 Thread 'MainThread': missing ScriptRunContext! This warning can be ignored when running in bare mode.\n",
      "2025-05-21 05:34:20.601 Thread 'MainThread': missing ScriptRunContext! This warning can be ignored when running in bare mode.\n",
      "2025-05-21 05:34:20.602 Thread 'MainThread': missing ScriptRunContext! This warning can be ignored when running in bare mode.\n",
      "2025-05-21 05:34:20.602 Thread 'MainThread': missing ScriptRunContext! This warning can be ignored when running in bare mode.\n",
      "2025-05-21 05:34:20.603 Thread 'MainThread': missing ScriptRunContext! This warning can be ignored when running in bare mode.\n",
      "2025-05-21 05:34:20.604 Thread 'MainThread': missing ScriptRunContext! This warning can be ignored when running in bare mode.\n",
      "2025-05-21 05:34:20.604 Thread 'MainThread': missing ScriptRunContext! This warning can be ignored when running in bare mode.\n",
      "2025-05-21 05:34:20.605 Thread 'MainThread': missing ScriptRunContext! This warning can be ignored when running in bare mode.\n",
      "2025-05-21 05:34:20.605 Thread 'MainThread': missing ScriptRunContext! This warning can be ignored when running in bare mode.\n",
      "2025-05-21 05:34:20.606 Thread 'MainThread': missing ScriptRunContext! This warning can be ignored when running in bare mode.\n"
     ]
    }
   ],
   "source": [
    "# --- Sidebar Filters ---\n",
    "st.sidebar.header(\"Filter Forecasts\")\n",
    "\n",
    "# Filter options\n",
    "store_options = sorted(forecast_df['store_nbr'].unique())\n",
    "family_options = sorted(forecast_df['family'].unique())\n",
    "date_min = forecast_df['ds'].min()\n",
    "date_max = forecast_df['ds'].max()\n",
    "\n",
    "# Widgets\n",
    "selected_store = st.sidebar.selectbox(\"Select Store Number\", store_options)\n",
    "selected_family = st.sidebar.selectbox(\"Select Product Family\", family_options)\n",
    "selected_dates = st.sidebar.date_input(\n",
    "    \"Select Forecast Date Range\",\n",
    "    value=(date_min, date_max),\n",
    "    min_value=date_min,\n",
    "    max_value=date_max\n",
    ")\n",
    "\n",
    "# Holiday and Promotion toggles\n",
    "highlight_holidays = st.sidebar.checkbox(\"Highlight Holidays\", value=False)\n",
    "show_promotions = st.sidebar.checkbox(\"Show Promotions\", value=False)\n"
   ]
  },
  {
   "cell_type": "markdown",
   "id": "d1a5a49b",
   "metadata": {},
   "source": [
    "## 3. Forecast vs. Actual Sales Plot"
   ]
  },
  {
   "cell_type": "markdown",
   "id": "5e37646c",
   "metadata": {},
   "source": [
    "This chart visualizes forecasted vs. actual sales for the selected store and product family.  \n",
    "It highlights how **promotions** and **holidays** may influence sales behavior—supporting smarter inventory and replenishment decisions.\n"
   ]
  },
  {
   "cell_type": "code",
   "execution_count": null,
   "id": "471190fb",
   "metadata": {},
   "outputs": [
    {
     "name": "stderr",
     "output_type": "stream",
     "text": [
      "2025-05-21 05:34:20.839 Thread 'MainThread': missing ScriptRunContext! This warning can be ignored when running in bare mode.\n",
      "2025-05-21 05:34:20.840 Thread 'MainThread': missing ScriptRunContext! This warning can be ignored when running in bare mode.\n",
      "2025-05-21 05:34:20.878 Thread 'MainThread': missing ScriptRunContext! This warning can be ignored when running in bare mode.\n",
      "2025-05-21 05:34:21.170 Thread 'MainThread': missing ScriptRunContext! This warning can be ignored when running in bare mode.\n",
      "2025-05-21 05:34:21.171 Thread 'MainThread': missing ScriptRunContext! This warning can be ignored when running in bare mode.\n"
     ]
    },
    {
     "data": {
      "text/plain": [
       "DeltaGenerator()"
      ]
     },
     "execution_count": 17,
     "metadata": {},
     "output_type": "execute_result"
    }
   ],
   "source": [
    "# --- Filter Data ---\n",
    "start_date = pd.to_datetime(selected_dates[0])\n",
    "end_date = pd.to_datetime(selected_dates[1])\n",
    "\n",
    "filtered_forecast = forecast_df[\n",
    "    (forecast_df['store_nbr'] == selected_store) &\n",
    "    (forecast_df['family'] == selected_family) &\n",
    "    (forecast_df['ds'] >= start_date) &\n",
    "    (forecast_df['ds'] <= end_date)\n",
    "]\n",
    "\n",
    "actuals_df = actual_df.rename(columns={'date': 'ds'})\n",
    "filtered_actuals = actuals_df[\n",
    "    (actuals_df['store_nbr'] == selected_store) &\n",
    "    (actuals_df['family'] == selected_family) &\n",
    "    (actuals_df['ds'] >= start_date) &\n",
    "    (actuals_df['ds'] <= end_date)\n",
    "]\n",
    "\n",
    "# --- Merge forecast with actuals ---\n",
    "merged_df = pd.merge(filtered_forecast, filtered_actuals, on=['ds', 'store_nbr', 'family'], how='left')\n",
    "\n",
    "# --- Plot ---\n",
    "st.subheader(\"Forecast vs. Actual Sales\")\n",
    "fig, ax = plt.subplots(figsize=(12, 6))\n",
    "\n",
    "# Forecast and actual\n",
    "sns.lineplot(data=merged_df, x='ds', y='yhat', label='Forecast', ax=ax)\n",
    "sns.lineplot(data=merged_df, x='ds', y='sales', label='Actual', ax=ax)\n",
    "\n",
    "# Optionally highlight holidays\n",
    "if highlight_holidays:\n",
    "    holiday_dates = merged_df[merged_df['is_holiday'] == 1]['ds']\n",
    "    for h_date in holiday_dates:\n",
    "        ax.axvline(h_date, color='red', linestyle='--', alpha=0.3)\n",
    "\n",
    "# Optionally show promotion flags\n",
    "if show_promotions:\n",
    "    promo_days = merged_df[merged_df['onpromotion'] == 1]\n",
    "    sns.scatterplot(data=promo_days, x='ds', y='sales', color='green', label='Promo Day', ax=ax)\n",
    "\n",
    "ax.set_title(f\"Store {selected_store} - {selected_family}\")\n",
    "ax.set_xlabel(\"Date\")\n",
    "ax.set_ylabel(\"Sales\")\n",
    "plt.xticks(rotation=45)\n",
    "st.pyplot(fig)\n"
   ]
  }
 ],
 "metadata": {
  "kernelspec": {
   "display_name": "venv",
   "language": "python",
   "name": "python3"
  },
  "language_info": {
   "codemirror_mode": {
    "name": "ipython",
    "version": 3
   },
   "file_extension": ".py",
   "mimetype": "text/x-python",
   "name": "python",
   "nbconvert_exporter": "python",
   "pygments_lexer": "ipython3",
   "version": "3.13.3"
  }
 },
 "nbformat": 4,
 "nbformat_minor": 5
}
