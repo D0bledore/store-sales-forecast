{
 "cells": [
  {
   "cell_type": "markdown",
   "id": "299acb6b",
   "metadata": {},
   "source": [
    "# 02 - Data Preparation"
   ]
  },
  {
   "cell_type": "markdown",
   "id": "7439d823",
   "metadata": {},
   "source": [
    "## Introduction"
   ]
  },
  {
   "cell_type": "markdown",
   "id": "f2d1f60b",
   "metadata": {},
   "source": [
    "To improve inventory management at Corporación Favorita, we need to prepare the data in a way that supports accurate, product-level sales forecasting. Our business goal is to reduce **understocking and overstocking** by anticipating future demand at each store for each product family. \n",
    "\n",
    "To support this, we will prepare:\n",
    "- Historical **sales data** (store-product-day level)\n",
    "- **Promotions**, **transactions**, and **holiday indicators**\n",
    "- External context like **oil prices** (economic signal for demand)\n",
    "\n",
    "This combined dataset will form the foundation for modeling product-level demand and improving stocking decisions.\n",
    "\n",
    "---"
   ]
  },
  {
   "cell_type": "markdown",
   "id": "8bb6e555",
   "metadata": {},
   "source": [
    "### Model Selection: Why We Use Prophet\n",
    "\n",
    "We are using **Prophet** as our forecasting model because it aligns directly with the business requirements:\n",
    "\n",
    "- It captures **seasonality and holiday effects**, which heavily impact retail sales.\n",
    "- It handles **missing dates** and **irregular demand** — common in real retail operations.\n",
    "- It allows us to model **each store-product family separately**, enabling tailored inventory strategies.\n",
    "- It produces **interpretable forecasts** that help non-technical teams understand sales patterns.\n",
    "\n",
    "These features make Prophet well-suited for solving Corporación Favorita’s stock management challenges.\n",
    "\n",
    "\n",
    "---\n"
   ]
  },
  {
   "cell_type": "markdown",
   "id": "7fc12564",
   "metadata": {},
   "source": [
    "### Objectives of This Notebook\n",
    "\n",
    "This notebook prepares a clean, feature-rich dataset ready for time series forecasting with Prophet. Our objectives:\n",
    "\n",
    "- **Filter and align data**:\n",
    "  - Keep relevant columns from sales, holidays, oil, and transactions datasets.\n",
    "  - Merge all sources at the daily store-family level.\n",
    "\n",
    "- **Engineer key features**:\n",
    "  - Lag features (e.g. `sales_lag_7`, `sales_lag_14`)\n",
    "  - Rolling averages (e.g. 7-day, 14-day smoothed sales)\n",
    "  - Flags: `onpromotion`, `is_holiday`\n",
    "\n",
    "- **Format for Prophet**:\n",
    "  - Rename `date` to `ds`, `sales` to `y`\n",
    "  - Include all relevant regressors to enrich the model\n",
    "\n"
   ]
  },
  {
   "cell_type": "markdown",
   "id": "72ddd111",
   "metadata": {},
   "source": [
    "## 1. Import & Load Data"
   ]
  },
  {
   "cell_type": "code",
   "execution_count": 108,
   "id": "7001ffb0",
   "metadata": {},
   "outputs": [],
   "source": [
    "# Import necessary modules\n",
    "import pandas as pd\n",
    "import numpy as np\n",
    "import matplotlib.pyplot as plt\n",
    "import seaborn as sns\n",
    "\n",
    "# Set display options\n",
    "pd.set_option('display.max_columns', None)\n",
    "\n",
    "# Ingore warnings\n",
    "import warnings\n",
    "warnings.filterwarnings('ignore')\n",
    "\n",
    "# Load datasets\n",
    "sales_data = pd.read_csv('../data/train.csv')\n",
    "stores_data = pd.read_csv('../data/stores.csv')\n",
    "holidays_events_data = pd.read_csv('../data/holidays_events.csv')\n",
    "oil_data = pd.read_csv('../data/oil.csv')\n",
    "transactions_data = pd.read_csv('../data/transactions.csv')"
   ]
  },
  {
   "cell_type": "markdown",
   "id": "4a996c85",
   "metadata": {},
   "source": [
    "## 2. Inspect and Clean Data"
   ]
  },
  {
   "cell_type": "markdown",
   "id": "8ff46f54",
   "metadata": {},
   "source": [
    "### 2.1 Convert date columns"
   ]
  },
  {
   "cell_type": "code",
   "execution_count": 109,
   "id": "ce7c2ebf",
   "metadata": {},
   "outputs": [],
   "source": [
    "# Convert date columns to datetime format\n",
    "# Ensures consistency across all datasets for accurate merging\n",
    "sales_data['date'] = pd.to_datetime(sales_data['date'])\n",
    "transactions_data['date'] = pd.to_datetime(transactions_data['date'])\n",
    "holidays_events_data['date'] = pd.to_datetime(holidays_events_data['date'])\n",
    "oil_data['date'] = pd.to_datetime(oil_data['date'])\n"
   ]
  },
  {
   "cell_type": "markdown",
   "id": "a7336e1e",
   "metadata": {},
   "source": [
    "## 2.2 Inspect Mising Values"
   ]
  },
  {
   "cell_type": "code",
   "execution_count": 110,
   "id": "2b3418c8",
   "metadata": {},
   "outputs": [
    {
     "name": "stdout",
     "output_type": "stream",
     "text": [
      "Missing values in oil_data:\n",
      "date           0\n",
      "dcoilwtico    43\n",
      "dtype: int64\n",
      "\n",
      "Number of missing dates in oil_data: 486\n",
      "Missing oil_data dates: [Timestamp('2013-01-05 00:00:00'), Timestamp('2013-01-06 00:00:00'), Timestamp('2013-01-12 00:00:00'), Timestamp('2013-01-13 00:00:00'), Timestamp('2013-01-19 00:00:00'), Timestamp('2013-01-20 00:00:00'), Timestamp('2013-01-26 00:00:00'), Timestamp('2013-01-27 00:00:00'), Timestamp('2013-02-02 00:00:00'), Timestamp('2013-02-03 00:00:00'), Timestamp('2013-02-09 00:00:00'), Timestamp('2013-02-10 00:00:00'), Timestamp('2013-02-16 00:00:00'), Timestamp('2013-02-17 00:00:00'), Timestamp('2013-02-23 00:00:00'), Timestamp('2013-02-24 00:00:00'), Timestamp('2013-03-02 00:00:00'), Timestamp('2013-03-03 00:00:00'), Timestamp('2013-03-09 00:00:00'), Timestamp('2013-03-10 00:00:00'), Timestamp('2013-03-16 00:00:00'), Timestamp('2013-03-17 00:00:00'), Timestamp('2013-03-23 00:00:00'), Timestamp('2013-03-24 00:00:00'), Timestamp('2013-03-30 00:00:00'), Timestamp('2013-03-31 00:00:00'), Timestamp('2013-04-06 00:00:00'), Timestamp('2013-04-07 00:00:00'), Timestamp('2013-04-13 00:00:00'), Timestamp('2013-04-14 00:00:00'), Timestamp('2013-04-20 00:00:00'), Timestamp('2013-04-21 00:00:00'), Timestamp('2013-04-27 00:00:00'), Timestamp('2013-04-28 00:00:00'), Timestamp('2013-05-04 00:00:00'), Timestamp('2013-05-05 00:00:00'), Timestamp('2013-05-11 00:00:00'), Timestamp('2013-05-12 00:00:00'), Timestamp('2013-05-18 00:00:00'), Timestamp('2013-05-19 00:00:00'), Timestamp('2013-05-25 00:00:00'), Timestamp('2013-05-26 00:00:00'), Timestamp('2013-06-01 00:00:00'), Timestamp('2013-06-02 00:00:00'), Timestamp('2013-06-08 00:00:00'), Timestamp('2013-06-09 00:00:00'), Timestamp('2013-06-15 00:00:00'), Timestamp('2013-06-16 00:00:00'), Timestamp('2013-06-22 00:00:00'), Timestamp('2013-06-23 00:00:00'), Timestamp('2013-06-29 00:00:00'), Timestamp('2013-06-30 00:00:00'), Timestamp('2013-07-06 00:00:00'), Timestamp('2013-07-07 00:00:00'), Timestamp('2013-07-13 00:00:00'), Timestamp('2013-07-14 00:00:00'), Timestamp('2013-07-20 00:00:00'), Timestamp('2013-07-21 00:00:00'), Timestamp('2013-07-27 00:00:00'), Timestamp('2013-07-28 00:00:00'), Timestamp('2013-08-03 00:00:00'), Timestamp('2013-08-04 00:00:00'), Timestamp('2013-08-10 00:00:00'), Timestamp('2013-08-11 00:00:00'), Timestamp('2013-08-17 00:00:00'), Timestamp('2013-08-18 00:00:00'), Timestamp('2013-08-24 00:00:00'), Timestamp('2013-08-25 00:00:00'), Timestamp('2013-08-31 00:00:00'), Timestamp('2013-09-01 00:00:00'), Timestamp('2013-09-07 00:00:00'), Timestamp('2013-09-08 00:00:00'), Timestamp('2013-09-14 00:00:00'), Timestamp('2013-09-15 00:00:00'), Timestamp('2013-09-21 00:00:00'), Timestamp('2013-09-22 00:00:00'), Timestamp('2013-09-28 00:00:00'), Timestamp('2013-09-29 00:00:00'), Timestamp('2013-10-05 00:00:00'), Timestamp('2013-10-06 00:00:00'), Timestamp('2013-10-12 00:00:00'), Timestamp('2013-10-13 00:00:00'), Timestamp('2013-10-19 00:00:00'), Timestamp('2013-10-20 00:00:00'), Timestamp('2013-10-26 00:00:00'), Timestamp('2013-10-27 00:00:00'), Timestamp('2013-11-02 00:00:00'), Timestamp('2013-11-03 00:00:00'), Timestamp('2013-11-09 00:00:00'), Timestamp('2013-11-10 00:00:00'), Timestamp('2013-11-16 00:00:00'), Timestamp('2013-11-17 00:00:00'), Timestamp('2013-11-23 00:00:00'), Timestamp('2013-11-24 00:00:00'), Timestamp('2013-11-30 00:00:00'), Timestamp('2013-12-01 00:00:00'), Timestamp('2013-12-07 00:00:00'), Timestamp('2013-12-08 00:00:00'), Timestamp('2013-12-14 00:00:00'), Timestamp('2013-12-15 00:00:00'), Timestamp('2013-12-21 00:00:00'), Timestamp('2013-12-22 00:00:00'), Timestamp('2013-12-28 00:00:00'), Timestamp('2013-12-29 00:00:00'), Timestamp('2014-01-04 00:00:00'), Timestamp('2014-01-05 00:00:00'), Timestamp('2014-01-11 00:00:00'), Timestamp('2014-01-12 00:00:00'), Timestamp('2014-01-18 00:00:00'), Timestamp('2014-01-19 00:00:00'), Timestamp('2014-01-25 00:00:00'), Timestamp('2014-01-26 00:00:00'), Timestamp('2014-02-01 00:00:00'), Timestamp('2014-02-02 00:00:00'), Timestamp('2014-02-08 00:00:00'), Timestamp('2014-02-09 00:00:00'), Timestamp('2014-02-15 00:00:00'), Timestamp('2014-02-16 00:00:00'), Timestamp('2014-02-22 00:00:00'), Timestamp('2014-02-23 00:00:00'), Timestamp('2014-03-01 00:00:00'), Timestamp('2014-03-02 00:00:00'), Timestamp('2014-03-08 00:00:00'), Timestamp('2014-03-09 00:00:00'), Timestamp('2014-03-15 00:00:00'), Timestamp('2014-03-16 00:00:00'), Timestamp('2014-03-22 00:00:00'), Timestamp('2014-03-23 00:00:00'), Timestamp('2014-03-29 00:00:00'), Timestamp('2014-03-30 00:00:00'), Timestamp('2014-04-05 00:00:00'), Timestamp('2014-04-06 00:00:00'), Timestamp('2014-04-12 00:00:00'), Timestamp('2014-04-13 00:00:00'), Timestamp('2014-04-19 00:00:00'), Timestamp('2014-04-20 00:00:00'), Timestamp('2014-04-26 00:00:00'), Timestamp('2014-04-27 00:00:00'), Timestamp('2014-05-03 00:00:00'), Timestamp('2014-05-04 00:00:00'), Timestamp('2014-05-10 00:00:00'), Timestamp('2014-05-11 00:00:00'), Timestamp('2014-05-17 00:00:00'), Timestamp('2014-05-18 00:00:00'), Timestamp('2014-05-24 00:00:00'), Timestamp('2014-05-25 00:00:00'), Timestamp('2014-05-31 00:00:00'), Timestamp('2014-06-01 00:00:00'), Timestamp('2014-06-07 00:00:00'), Timestamp('2014-06-08 00:00:00'), Timestamp('2014-06-14 00:00:00'), Timestamp('2014-06-15 00:00:00'), Timestamp('2014-06-21 00:00:00'), Timestamp('2014-06-22 00:00:00'), Timestamp('2014-06-28 00:00:00'), Timestamp('2014-06-29 00:00:00'), Timestamp('2014-07-05 00:00:00'), Timestamp('2014-07-06 00:00:00'), Timestamp('2014-07-12 00:00:00'), Timestamp('2014-07-13 00:00:00'), Timestamp('2014-07-19 00:00:00'), Timestamp('2014-07-20 00:00:00'), Timestamp('2014-07-26 00:00:00'), Timestamp('2014-07-27 00:00:00'), Timestamp('2014-08-02 00:00:00'), Timestamp('2014-08-03 00:00:00'), Timestamp('2014-08-09 00:00:00'), Timestamp('2014-08-10 00:00:00'), Timestamp('2014-08-16 00:00:00'), Timestamp('2014-08-17 00:00:00'), Timestamp('2014-08-23 00:00:00'), Timestamp('2014-08-24 00:00:00'), Timestamp('2014-08-30 00:00:00'), Timestamp('2014-08-31 00:00:00'), Timestamp('2014-09-06 00:00:00'), Timestamp('2014-09-07 00:00:00'), Timestamp('2014-09-13 00:00:00'), Timestamp('2014-09-14 00:00:00'), Timestamp('2014-09-20 00:00:00'), Timestamp('2014-09-21 00:00:00'), Timestamp('2014-09-27 00:00:00'), Timestamp('2014-09-28 00:00:00'), Timestamp('2014-10-04 00:00:00'), Timestamp('2014-10-05 00:00:00'), Timestamp('2014-10-11 00:00:00'), Timestamp('2014-10-12 00:00:00'), Timestamp('2014-10-18 00:00:00'), Timestamp('2014-10-19 00:00:00'), Timestamp('2014-10-25 00:00:00'), Timestamp('2014-10-26 00:00:00'), Timestamp('2014-11-01 00:00:00'), Timestamp('2014-11-02 00:00:00'), Timestamp('2014-11-08 00:00:00'), Timestamp('2014-11-09 00:00:00'), Timestamp('2014-11-15 00:00:00'), Timestamp('2014-11-16 00:00:00'), Timestamp('2014-11-22 00:00:00'), Timestamp('2014-11-23 00:00:00'), Timestamp('2014-11-29 00:00:00'), Timestamp('2014-11-30 00:00:00'), Timestamp('2014-12-06 00:00:00'), Timestamp('2014-12-07 00:00:00'), Timestamp('2014-12-13 00:00:00'), Timestamp('2014-12-14 00:00:00'), Timestamp('2014-12-20 00:00:00'), Timestamp('2014-12-21 00:00:00'), Timestamp('2014-12-27 00:00:00'), Timestamp('2014-12-28 00:00:00'), Timestamp('2015-01-03 00:00:00'), Timestamp('2015-01-04 00:00:00'), Timestamp('2015-01-10 00:00:00'), Timestamp('2015-01-11 00:00:00'), Timestamp('2015-01-17 00:00:00'), Timestamp('2015-01-18 00:00:00'), Timestamp('2015-01-24 00:00:00'), Timestamp('2015-01-25 00:00:00'), Timestamp('2015-01-31 00:00:00'), Timestamp('2015-02-01 00:00:00'), Timestamp('2015-02-07 00:00:00'), Timestamp('2015-02-08 00:00:00'), Timestamp('2015-02-14 00:00:00'), Timestamp('2015-02-15 00:00:00'), Timestamp('2015-02-21 00:00:00'), Timestamp('2015-02-22 00:00:00'), Timestamp('2015-02-28 00:00:00'), Timestamp('2015-03-01 00:00:00'), Timestamp('2015-03-07 00:00:00'), Timestamp('2015-03-08 00:00:00'), Timestamp('2015-03-14 00:00:00'), Timestamp('2015-03-15 00:00:00'), Timestamp('2015-03-21 00:00:00'), Timestamp('2015-03-22 00:00:00'), Timestamp('2015-03-28 00:00:00'), Timestamp('2015-03-29 00:00:00'), Timestamp('2015-04-04 00:00:00'), Timestamp('2015-04-05 00:00:00'), Timestamp('2015-04-11 00:00:00'), Timestamp('2015-04-12 00:00:00'), Timestamp('2015-04-18 00:00:00'), Timestamp('2015-04-19 00:00:00'), Timestamp('2015-04-25 00:00:00'), Timestamp('2015-04-26 00:00:00'), Timestamp('2015-05-02 00:00:00'), Timestamp('2015-05-03 00:00:00'), Timestamp('2015-05-09 00:00:00'), Timestamp('2015-05-10 00:00:00'), Timestamp('2015-05-16 00:00:00'), Timestamp('2015-05-17 00:00:00'), Timestamp('2015-05-23 00:00:00'), Timestamp('2015-05-24 00:00:00'), Timestamp('2015-05-30 00:00:00'), Timestamp('2015-05-31 00:00:00'), Timestamp('2015-06-06 00:00:00'), Timestamp('2015-06-07 00:00:00'), Timestamp('2015-06-13 00:00:00'), Timestamp('2015-06-14 00:00:00'), Timestamp('2015-06-20 00:00:00'), Timestamp('2015-06-21 00:00:00'), Timestamp('2015-06-27 00:00:00'), Timestamp('2015-06-28 00:00:00'), Timestamp('2015-07-04 00:00:00'), Timestamp('2015-07-05 00:00:00'), Timestamp('2015-07-11 00:00:00'), Timestamp('2015-07-12 00:00:00'), Timestamp('2015-07-18 00:00:00'), Timestamp('2015-07-19 00:00:00'), Timestamp('2015-07-25 00:00:00'), Timestamp('2015-07-26 00:00:00'), Timestamp('2015-08-01 00:00:00'), Timestamp('2015-08-02 00:00:00'), Timestamp('2015-08-08 00:00:00'), Timestamp('2015-08-09 00:00:00'), Timestamp('2015-08-15 00:00:00'), Timestamp('2015-08-16 00:00:00'), Timestamp('2015-08-22 00:00:00'), Timestamp('2015-08-23 00:00:00'), Timestamp('2015-08-29 00:00:00'), Timestamp('2015-08-30 00:00:00'), Timestamp('2015-09-05 00:00:00'), Timestamp('2015-09-06 00:00:00'), Timestamp('2015-09-12 00:00:00'), Timestamp('2015-09-13 00:00:00'), Timestamp('2015-09-19 00:00:00'), Timestamp('2015-09-20 00:00:00'), Timestamp('2015-09-26 00:00:00'), Timestamp('2015-09-27 00:00:00'), Timestamp('2015-10-03 00:00:00'), Timestamp('2015-10-04 00:00:00'), Timestamp('2015-10-10 00:00:00'), Timestamp('2015-10-11 00:00:00'), Timestamp('2015-10-17 00:00:00'), Timestamp('2015-10-18 00:00:00'), Timestamp('2015-10-24 00:00:00'), Timestamp('2015-10-25 00:00:00'), Timestamp('2015-10-31 00:00:00'), Timestamp('2015-11-01 00:00:00'), Timestamp('2015-11-07 00:00:00'), Timestamp('2015-11-08 00:00:00'), Timestamp('2015-11-14 00:00:00'), Timestamp('2015-11-15 00:00:00'), Timestamp('2015-11-21 00:00:00'), Timestamp('2015-11-22 00:00:00'), Timestamp('2015-11-28 00:00:00'), Timestamp('2015-11-29 00:00:00'), Timestamp('2015-12-05 00:00:00'), Timestamp('2015-12-06 00:00:00'), Timestamp('2015-12-12 00:00:00'), Timestamp('2015-12-13 00:00:00'), Timestamp('2015-12-19 00:00:00'), Timestamp('2015-12-20 00:00:00'), Timestamp('2015-12-26 00:00:00'), Timestamp('2015-12-27 00:00:00'), Timestamp('2016-01-02 00:00:00'), Timestamp('2016-01-03 00:00:00'), Timestamp('2016-01-09 00:00:00'), Timestamp('2016-01-10 00:00:00'), Timestamp('2016-01-16 00:00:00'), Timestamp('2016-01-17 00:00:00'), Timestamp('2016-01-23 00:00:00'), Timestamp('2016-01-24 00:00:00'), Timestamp('2016-01-30 00:00:00'), Timestamp('2016-01-31 00:00:00'), Timestamp('2016-02-06 00:00:00'), Timestamp('2016-02-07 00:00:00'), Timestamp('2016-02-13 00:00:00'), Timestamp('2016-02-14 00:00:00'), Timestamp('2016-02-20 00:00:00'), Timestamp('2016-02-21 00:00:00'), Timestamp('2016-02-27 00:00:00'), Timestamp('2016-02-28 00:00:00'), Timestamp('2016-03-05 00:00:00'), Timestamp('2016-03-06 00:00:00'), Timestamp('2016-03-12 00:00:00'), Timestamp('2016-03-13 00:00:00'), Timestamp('2016-03-19 00:00:00'), Timestamp('2016-03-20 00:00:00'), Timestamp('2016-03-26 00:00:00'), Timestamp('2016-03-27 00:00:00'), Timestamp('2016-04-02 00:00:00'), Timestamp('2016-04-03 00:00:00'), Timestamp('2016-04-09 00:00:00'), Timestamp('2016-04-10 00:00:00'), Timestamp('2016-04-16 00:00:00'), Timestamp('2016-04-17 00:00:00'), Timestamp('2016-04-23 00:00:00'), Timestamp('2016-04-24 00:00:00'), Timestamp('2016-04-30 00:00:00'), Timestamp('2016-05-01 00:00:00'), Timestamp('2016-05-07 00:00:00'), Timestamp('2016-05-08 00:00:00'), Timestamp('2016-05-14 00:00:00'), Timestamp('2016-05-15 00:00:00'), Timestamp('2016-05-21 00:00:00'), Timestamp('2016-05-22 00:00:00'), Timestamp('2016-05-28 00:00:00'), Timestamp('2016-05-29 00:00:00'), Timestamp('2016-06-04 00:00:00'), Timestamp('2016-06-05 00:00:00'), Timestamp('2016-06-11 00:00:00'), Timestamp('2016-06-12 00:00:00'), Timestamp('2016-06-18 00:00:00'), Timestamp('2016-06-19 00:00:00'), Timestamp('2016-06-25 00:00:00'), Timestamp('2016-06-26 00:00:00'), Timestamp('2016-07-02 00:00:00'), Timestamp('2016-07-03 00:00:00'), Timestamp('2016-07-09 00:00:00'), Timestamp('2016-07-10 00:00:00'), Timestamp('2016-07-16 00:00:00'), Timestamp('2016-07-17 00:00:00'), Timestamp('2016-07-23 00:00:00'), Timestamp('2016-07-24 00:00:00'), Timestamp('2016-07-30 00:00:00'), Timestamp('2016-07-31 00:00:00'), Timestamp('2016-08-06 00:00:00'), Timestamp('2016-08-07 00:00:00'), Timestamp('2016-08-13 00:00:00'), Timestamp('2016-08-14 00:00:00'), Timestamp('2016-08-20 00:00:00'), Timestamp('2016-08-21 00:00:00'), Timestamp('2016-08-27 00:00:00'), Timestamp('2016-08-28 00:00:00'), Timestamp('2016-09-03 00:00:00'), Timestamp('2016-09-04 00:00:00'), Timestamp('2016-09-10 00:00:00'), Timestamp('2016-09-11 00:00:00'), Timestamp('2016-09-17 00:00:00'), Timestamp('2016-09-18 00:00:00'), Timestamp('2016-09-24 00:00:00'), Timestamp('2016-09-25 00:00:00'), Timestamp('2016-10-01 00:00:00'), Timestamp('2016-10-02 00:00:00'), Timestamp('2016-10-08 00:00:00'), Timestamp('2016-10-09 00:00:00'), Timestamp('2016-10-15 00:00:00'), Timestamp('2016-10-16 00:00:00'), Timestamp('2016-10-22 00:00:00'), Timestamp('2016-10-23 00:00:00'), Timestamp('2016-10-29 00:00:00'), Timestamp('2016-10-30 00:00:00'), Timestamp('2016-11-05 00:00:00'), Timestamp('2016-11-06 00:00:00'), Timestamp('2016-11-12 00:00:00'), Timestamp('2016-11-13 00:00:00'), Timestamp('2016-11-19 00:00:00'), Timestamp('2016-11-20 00:00:00'), Timestamp('2016-11-26 00:00:00'), Timestamp('2016-11-27 00:00:00'), Timestamp('2016-12-03 00:00:00'), Timestamp('2016-12-04 00:00:00'), Timestamp('2016-12-10 00:00:00'), Timestamp('2016-12-11 00:00:00'), Timestamp('2016-12-17 00:00:00'), Timestamp('2016-12-18 00:00:00'), Timestamp('2016-12-24 00:00:00'), Timestamp('2016-12-25 00:00:00'), Timestamp('2016-12-31 00:00:00'), Timestamp('2017-01-01 00:00:00'), Timestamp('2017-01-07 00:00:00'), Timestamp('2017-01-08 00:00:00'), Timestamp('2017-01-14 00:00:00'), Timestamp('2017-01-15 00:00:00'), Timestamp('2017-01-21 00:00:00'), Timestamp('2017-01-22 00:00:00'), Timestamp('2017-01-28 00:00:00'), Timestamp('2017-01-29 00:00:00'), Timestamp('2017-02-04 00:00:00'), Timestamp('2017-02-05 00:00:00'), Timestamp('2017-02-11 00:00:00'), Timestamp('2017-02-12 00:00:00'), Timestamp('2017-02-18 00:00:00'), Timestamp('2017-02-19 00:00:00'), Timestamp('2017-02-25 00:00:00'), Timestamp('2017-02-26 00:00:00'), Timestamp('2017-03-04 00:00:00'), Timestamp('2017-03-05 00:00:00'), Timestamp('2017-03-11 00:00:00'), Timestamp('2017-03-12 00:00:00'), Timestamp('2017-03-18 00:00:00'), Timestamp('2017-03-19 00:00:00'), Timestamp('2017-03-25 00:00:00'), Timestamp('2017-03-26 00:00:00'), Timestamp('2017-04-01 00:00:00'), Timestamp('2017-04-02 00:00:00'), Timestamp('2017-04-08 00:00:00'), Timestamp('2017-04-09 00:00:00'), Timestamp('2017-04-15 00:00:00'), Timestamp('2017-04-16 00:00:00'), Timestamp('2017-04-22 00:00:00'), Timestamp('2017-04-23 00:00:00'), Timestamp('2017-04-29 00:00:00'), Timestamp('2017-04-30 00:00:00'), Timestamp('2017-05-06 00:00:00'), Timestamp('2017-05-07 00:00:00'), Timestamp('2017-05-13 00:00:00'), Timestamp('2017-05-14 00:00:00'), Timestamp('2017-05-20 00:00:00'), Timestamp('2017-05-21 00:00:00'), Timestamp('2017-05-27 00:00:00'), Timestamp('2017-05-28 00:00:00'), Timestamp('2017-06-03 00:00:00'), Timestamp('2017-06-04 00:00:00'), Timestamp('2017-06-10 00:00:00'), Timestamp('2017-06-11 00:00:00'), Timestamp('2017-06-17 00:00:00'), Timestamp('2017-06-18 00:00:00'), Timestamp('2017-06-24 00:00:00'), Timestamp('2017-06-25 00:00:00'), Timestamp('2017-07-01 00:00:00'), Timestamp('2017-07-02 00:00:00'), Timestamp('2017-07-08 00:00:00'), Timestamp('2017-07-09 00:00:00'), Timestamp('2017-07-15 00:00:00'), Timestamp('2017-07-16 00:00:00'), Timestamp('2017-07-22 00:00:00'), Timestamp('2017-07-23 00:00:00'), Timestamp('2017-07-29 00:00:00'), Timestamp('2017-07-30 00:00:00'), Timestamp('2017-08-05 00:00:00'), Timestamp('2017-08-06 00:00:00'), Timestamp('2017-08-12 00:00:00'), Timestamp('2017-08-13 00:00:00'), Timestamp('2017-08-19 00:00:00'), Timestamp('2017-08-20 00:00:00'), Timestamp('2017-08-26 00:00:00'), Timestamp('2017-08-27 00:00:00')]\n",
      "\n",
      "Missing values in transactions_data:\n",
      "date            0\n",
      "store_nbr       0\n",
      "transactions    0\n",
      "dtype: int64\n",
      "\n",
      "Number of missing dates in transactions_data: 6\n",
      "Missing dates: [Timestamp('2013-12-25 00:00:00'), Timestamp('2014-12-25 00:00:00'), Timestamp('2015-12-25 00:00:00'), Timestamp('2016-01-01 00:00:00'), Timestamp('2016-01-03 00:00:00'), Timestamp('2016-12-25 00:00:00')]\n"
     ]
    }
   ],
   "source": [
    "# Check for missing values in external datasets\n",
    "# Helps identify gaps that need to be filled before merging\n",
    "print(\"Missing values in oil_data:\")\n",
    "print(oil_data.isna().sum())\n",
    "\n",
    "# Check for gaps in oil_data dates\n",
    "oil_date_range = pd.date_range(start=oil_data['date'].min(), end=oil_data['date'].max())\n",
    "missing_oil_dates = set(oil_date_range) - set(oil_data['date'].unique())\n",
    "print(f\"\\nNumber of missing dates in oil_data: {len(missing_oil_dates)}\")\n",
    "if missing_oil_dates:\n",
    "    print(\"Missing oil_data dates:\", sorted(missing_oil_dates))\n",
    "else:\n",
    "    print(\"No missing dates in oil_data.\")\n",
    "\n",
    "print(\"\\nMissing values in transactions_data:\")\n",
    "print(transactions_data.isna().sum())\n",
    "\n",
    "# Check for gaps in dates in transactions_data\n",
    "date_range = pd.date_range(start=transactions_data['date'].min(), end=transactions_data['date'].max())\n",
    "missing_dates = set(date_range) - set(transactions_data['date'].unique())\n",
    "print(f\"\\nNumber of missing dates in transactions_data: {len(missing_dates)}\")\n",
    "if missing_dates:\n",
    "    print(\"Missing dates:\", sorted(missing_dates))\n",
    "else:\n",
    "    print(\"No missing dates in transactions_data.\")\n"
   ]
  },
  {
   "cell_type": "markdown",
   "metadata": {},
   "source": [
    "### 2.3 Fill Missing Dates in Oil & Transsactions Data"
   ]
  },
  {
   "cell_type": "code",
   "execution_count": 111,
   "id": "869f6d1f",
   "metadata": {},
   "outputs": [],
   "source": [
    "# Create a full daily date range matching sales_data\n",
    "full_dates = pd.date_range(start=sales_data['date'].min(), end=sales_data['date'].max())\n",
    "\n",
    "# --- Clean oil_data ---\n",
    "oil_data = oil_data.set_index('date').reindex(full_dates).rename_axis('date').reset_index()\n",
    "oil_data['dcoilwtico'] = oil_data['dcoilwtico'].fillna(method='ffill')\n",
    "\n",
    "# --- Clean transactions_data ---\n",
    "# Expand transactions_data to cover all store_nbr + full_dates combinations\n",
    "store_ids = transactions_data['store_nbr'].unique()\n",
    "full_index = pd.MultiIndex.from_product([full_dates, store_ids], names=['date', 'store_nbr'])\n",
    "transactions_data = transactions_data.set_index(['date', 'store_nbr']).reindex(full_index).reset_index()\n",
    "transactions_data['transactions'] = transactions_data['transactions'].fillna(0)\n"
   ]
  },
  {
   "cell_type": "markdown",
   "id": "5633d4ed",
   "metadata": {},
   "source": [
    "> Filling missing dates in oil_data and transactions_data ensures we have a complete daily timeline — essential for time series modeling. Without this, we risk misaligned data, gaps in regressors, and invalid training in models like Prophet. Forward-filling oil prices and zero-filling transactions helps preserve business logic while avoiding bias or errors."
   ]
  },
  {
   "cell_type": "markdown",
   "id": "93e86d68",
   "metadata": {},
   "source": [
    "### 2.4 Fill missing values\n",
    "It prevents `NaN`s from leaking into the model features. We avoid `NaN`s because most ML models (like Prophet) can’t handle them, and they break forecasting and analysis."
   ]
  },
  {
   "cell_type": "code",
   "execution_count": 112,
   "id": "295ec0cf",
   "metadata": {},
   "outputs": [],
   "source": [
    "# Fill missing oil prices in both directions\n",
    "oil_data['dcoilwtico'] = oil_data['dcoilwtico'].fillna(method='ffill').fillna(method='bfill')\n",
    "\n",
    "# Fill missing transactions data with 0 \n",
    "transactions_data['transactions'] = transactions_data['transactions'].fillna(0)"
   ]
  },
  {
   "cell_type": "markdown",
   "id": "1fad5370",
   "metadata": {},
   "source": [
    "## 2.5 Inspect Holidays"
   ]
  },
  {
   "cell_type": "code",
   "execution_count": 113,
   "id": "e03a643a",
   "metadata": {},
   "outputs": [
    {
     "name": "stdout",
     "output_type": "stream",
     "text": [
      "Holiday Types: ['Holiday' 'Transfer' 'Additional' 'Bridge' 'Work Day' 'Event']\n",
      "Locales: ['Local' 'Regional' 'National']\n",
      "Transferred values: transferred\n",
      "False    338\n",
      "True      12\n",
      "Name: count, dtype: int64\n"
     ]
    },
    {
     "data": {
      "text/html": [
       "<div>\n",
       "<style scoped>\n",
       "    .dataframe tbody tr th:only-of-type {\n",
       "        vertical-align: middle;\n",
       "    }\n",
       "\n",
       "    .dataframe tbody tr th {\n",
       "        vertical-align: top;\n",
       "    }\n",
       "\n",
       "    .dataframe thead th {\n",
       "        text-align: right;\n",
       "    }\n",
       "</style>\n",
       "<table border=\"1\" class=\"dataframe\">\n",
       "  <thead>\n",
       "    <tr style=\"text-align: right;\">\n",
       "      <th></th>\n",
       "      <th>date</th>\n",
       "      <th>type</th>\n",
       "      <th>locale</th>\n",
       "      <th>locale_name</th>\n",
       "      <th>description</th>\n",
       "      <th>transferred</th>\n",
       "    </tr>\n",
       "  </thead>\n",
       "  <tbody>\n",
       "    <tr>\n",
       "      <th>0</th>\n",
       "      <td>2012-03-02</td>\n",
       "      <td>Holiday</td>\n",
       "      <td>Local</td>\n",
       "      <td>Manta</td>\n",
       "      <td>Fundacion de Manta</td>\n",
       "      <td>False</td>\n",
       "    </tr>\n",
       "    <tr>\n",
       "      <th>1</th>\n",
       "      <td>2012-04-01</td>\n",
       "      <td>Holiday</td>\n",
       "      <td>Regional</td>\n",
       "      <td>Cotopaxi</td>\n",
       "      <td>Provincializacion de Cotopaxi</td>\n",
       "      <td>False</td>\n",
       "    </tr>\n",
       "    <tr>\n",
       "      <th>2</th>\n",
       "      <td>2012-04-12</td>\n",
       "      <td>Holiday</td>\n",
       "      <td>Local</td>\n",
       "      <td>Cuenca</td>\n",
       "      <td>Fundacion de Cuenca</td>\n",
       "      <td>False</td>\n",
       "    </tr>\n",
       "    <tr>\n",
       "      <th>3</th>\n",
       "      <td>2012-04-14</td>\n",
       "      <td>Holiday</td>\n",
       "      <td>Local</td>\n",
       "      <td>Libertad</td>\n",
       "      <td>Cantonizacion de Libertad</td>\n",
       "      <td>False</td>\n",
       "    </tr>\n",
       "    <tr>\n",
       "      <th>4</th>\n",
       "      <td>2012-04-21</td>\n",
       "      <td>Holiday</td>\n",
       "      <td>Local</td>\n",
       "      <td>Riobamba</td>\n",
       "      <td>Cantonizacion de Riobamba</td>\n",
       "      <td>False</td>\n",
       "    </tr>\n",
       "  </tbody>\n",
       "</table>\n",
       "</div>"
      ],
      "text/plain": [
       "        date     type    locale locale_name                    description  \\\n",
       "0 2012-03-02  Holiday     Local       Manta             Fundacion de Manta   \n",
       "1 2012-04-01  Holiday  Regional    Cotopaxi  Provincializacion de Cotopaxi   \n",
       "2 2012-04-12  Holiday     Local      Cuenca            Fundacion de Cuenca   \n",
       "3 2012-04-14  Holiday     Local    Libertad      Cantonizacion de Libertad   \n",
       "4 2012-04-21  Holiday     Local    Riobamba      Cantonizacion de Riobamba   \n",
       "\n",
       "   transferred  \n",
       "0        False  \n",
       "1        False  \n",
       "2        False  \n",
       "3        False  \n",
       "4        False  "
      ]
     },
     "execution_count": 113,
     "metadata": {},
     "output_type": "execute_result"
    }
   ],
   "source": [
    "# Check unique holiday types and locales\n",
    "print(\"Holiday Types:\", holidays_events_data['type'].unique())\n",
    "print(\"Locales:\", holidays_events_data['locale'].unique())\n",
    "print(\"Transferred values:\", holidays_events_data['transferred'].value_counts())\n",
    "\n",
    "# Preview structure\n",
    "holidays_events_data.head()"
   ]
  },
  {
   "cell_type": "markdown",
   "id": "38a211be",
   "metadata": {},
   "source": [
    "## 2.6 Filter Holidays"
   ]
  },
  {
   "cell_type": "code",
   "execution_count": 114,
   "id": "36518d6b",
   "metadata": {},
   "outputs": [],
   "source": [
    "# Filter only usable holidays (exclude transferred)\n",
    "usable_holidays = holidays_events_data[holidays_events_data['transferred'] == False].copy()\n",
    "\n",
    "# Keep only relevant columns\n",
    "usable_holidays = usable_holidays[['date', 'type', 'locale', 'locale_name']]\n"
   ]
  },
  {
   "cell_type": "markdown",
   "id": "ca22065f",
   "metadata": {},
   "source": [
    "## 2.7 Inspect Stores "
   ]
  },
  {
   "cell_type": "code",
   "execution_count": 115,
   "id": "94d01951",
   "metadata": {},
   "outputs": [
    {
     "name": "stdout",
     "output_type": "stream",
     "text": [
      "Cities: 22\n",
      "States: 16\n"
     ]
    },
    {
     "data": {
      "text/html": [
       "<div>\n",
       "<style scoped>\n",
       "    .dataframe tbody tr th:only-of-type {\n",
       "        vertical-align: middle;\n",
       "    }\n",
       "\n",
       "    .dataframe tbody tr th {\n",
       "        vertical-align: top;\n",
       "    }\n",
       "\n",
       "    .dataframe thead th {\n",
       "        text-align: right;\n",
       "    }\n",
       "</style>\n",
       "<table border=\"1\" class=\"dataframe\">\n",
       "  <thead>\n",
       "    <tr style=\"text-align: right;\">\n",
       "      <th></th>\n",
       "      <th>store_nbr</th>\n",
       "      <th>city</th>\n",
       "      <th>state</th>\n",
       "      <th>type</th>\n",
       "      <th>cluster</th>\n",
       "    </tr>\n",
       "  </thead>\n",
       "  <tbody>\n",
       "    <tr>\n",
       "      <th>0</th>\n",
       "      <td>1</td>\n",
       "      <td>Quito</td>\n",
       "      <td>Pichincha</td>\n",
       "      <td>D</td>\n",
       "      <td>13</td>\n",
       "    </tr>\n",
       "    <tr>\n",
       "      <th>1</th>\n",
       "      <td>2</td>\n",
       "      <td>Quito</td>\n",
       "      <td>Pichincha</td>\n",
       "      <td>D</td>\n",
       "      <td>13</td>\n",
       "    </tr>\n",
       "    <tr>\n",
       "      <th>2</th>\n",
       "      <td>3</td>\n",
       "      <td>Quito</td>\n",
       "      <td>Pichincha</td>\n",
       "      <td>D</td>\n",
       "      <td>8</td>\n",
       "    </tr>\n",
       "    <tr>\n",
       "      <th>3</th>\n",
       "      <td>4</td>\n",
       "      <td>Quito</td>\n",
       "      <td>Pichincha</td>\n",
       "      <td>D</td>\n",
       "      <td>9</td>\n",
       "    </tr>\n",
       "    <tr>\n",
       "      <th>4</th>\n",
       "      <td>5</td>\n",
       "      <td>Santo Domingo</td>\n",
       "      <td>Santo Domingo de los Tsachilas</td>\n",
       "      <td>D</td>\n",
       "      <td>4</td>\n",
       "    </tr>\n",
       "  </tbody>\n",
       "</table>\n",
       "</div>"
      ],
      "text/plain": [
       "   store_nbr           city                           state type  cluster\n",
       "0          1          Quito                       Pichincha    D       13\n",
       "1          2          Quito                       Pichincha    D       13\n",
       "2          3          Quito                       Pichincha    D        8\n",
       "3          4          Quito                       Pichincha    D        9\n",
       "4          5  Santo Domingo  Santo Domingo de los Tsachilas    D        4"
      ]
     },
     "execution_count": 115,
     "metadata": {},
     "output_type": "execute_result"
    }
   ],
   "source": [
    "# Check for unique cities and states\n",
    "print(\"Cities:\", stores_data['city'].nunique())\n",
    "print(\"States:\", stores_data['state'].nunique())\n",
    "\n",
    "# Preview store metadata\n",
    "stores_data.head()"
   ]
  },
  {
   "cell_type": "markdown",
   "id": "e0b59983",
   "metadata": {},
   "source": [
    "## 3. Merge Data"
   ]
  },
  {
   "cell_type": "markdown",
   "id": "95e59e32",
   "metadata": {},
   "source": [
    "### 3.1 Base Merge"
   ]
  },
  {
   "cell_type": "code",
   "execution_count": 116,
   "id": "0f028356",
   "metadata": {},
   "outputs": [
    {
     "data": {
      "text/html": [
       "<div>\n",
       "<style scoped>\n",
       "    .dataframe tbody tr th:only-of-type {\n",
       "        vertical-align: middle;\n",
       "    }\n",
       "\n",
       "    .dataframe tbody tr th {\n",
       "        vertical-align: top;\n",
       "    }\n",
       "\n",
       "    .dataframe thead th {\n",
       "        text-align: right;\n",
       "    }\n",
       "</style>\n",
       "<table border=\"1\" class=\"dataframe\">\n",
       "  <thead>\n",
       "    <tr style=\"text-align: right;\">\n",
       "      <th></th>\n",
       "      <th>id</th>\n",
       "      <th>date</th>\n",
       "      <th>store_nbr</th>\n",
       "      <th>family</th>\n",
       "      <th>sales</th>\n",
       "      <th>onpromotion</th>\n",
       "      <th>transactions</th>\n",
       "      <th>dcoilwtico</th>\n",
       "      <th>city</th>\n",
       "      <th>state</th>\n",
       "      <th>type</th>\n",
       "      <th>cluster</th>\n",
       "      <th>is_holiday</th>\n",
       "    </tr>\n",
       "  </thead>\n",
       "  <tbody>\n",
       "    <tr>\n",
       "      <th>0</th>\n",
       "      <td>0</td>\n",
       "      <td>2013-01-01</td>\n",
       "      <td>1</td>\n",
       "      <td>AUTOMOTIVE</td>\n",
       "      <td>0.0</td>\n",
       "      <td>0</td>\n",
       "      <td>0.0</td>\n",
       "      <td>93.14</td>\n",
       "      <td>Quito</td>\n",
       "      <td>Pichincha</td>\n",
       "      <td>D</td>\n",
       "      <td>13</td>\n",
       "      <td>1</td>\n",
       "    </tr>\n",
       "    <tr>\n",
       "      <th>1</th>\n",
       "      <td>1782</td>\n",
       "      <td>2013-01-02</td>\n",
       "      <td>1</td>\n",
       "      <td>AUTOMOTIVE</td>\n",
       "      <td>2.0</td>\n",
       "      <td>0</td>\n",
       "      <td>2111.0</td>\n",
       "      <td>93.14</td>\n",
       "      <td>Quito</td>\n",
       "      <td>Pichincha</td>\n",
       "      <td>D</td>\n",
       "      <td>13</td>\n",
       "      <td>0</td>\n",
       "    </tr>\n",
       "    <tr>\n",
       "      <th>2</th>\n",
       "      <td>3564</td>\n",
       "      <td>2013-01-03</td>\n",
       "      <td>1</td>\n",
       "      <td>AUTOMOTIVE</td>\n",
       "      <td>3.0</td>\n",
       "      <td>0</td>\n",
       "      <td>1833.0</td>\n",
       "      <td>92.97</td>\n",
       "      <td>Quito</td>\n",
       "      <td>Pichincha</td>\n",
       "      <td>D</td>\n",
       "      <td>13</td>\n",
       "      <td>0</td>\n",
       "    </tr>\n",
       "    <tr>\n",
       "      <th>3</th>\n",
       "      <td>5346</td>\n",
       "      <td>2013-01-04</td>\n",
       "      <td>1</td>\n",
       "      <td>AUTOMOTIVE</td>\n",
       "      <td>3.0</td>\n",
       "      <td>0</td>\n",
       "      <td>1863.0</td>\n",
       "      <td>93.12</td>\n",
       "      <td>Quito</td>\n",
       "      <td>Pichincha</td>\n",
       "      <td>D</td>\n",
       "      <td>13</td>\n",
       "      <td>0</td>\n",
       "    </tr>\n",
       "    <tr>\n",
       "      <th>4</th>\n",
       "      <td>7128</td>\n",
       "      <td>2013-01-05</td>\n",
       "      <td>1</td>\n",
       "      <td>AUTOMOTIVE</td>\n",
       "      <td>5.0</td>\n",
       "      <td>0</td>\n",
       "      <td>1509.0</td>\n",
       "      <td>93.12</td>\n",
       "      <td>Quito</td>\n",
       "      <td>Pichincha</td>\n",
       "      <td>D</td>\n",
       "      <td>13</td>\n",
       "      <td>1</td>\n",
       "    </tr>\n",
       "  </tbody>\n",
       "</table>\n",
       "</div>"
      ],
      "text/plain": [
       "     id       date  store_nbr      family  sales  onpromotion  transactions  \\\n",
       "0     0 2013-01-01          1  AUTOMOTIVE    0.0            0           0.0   \n",
       "1  1782 2013-01-02          1  AUTOMOTIVE    2.0            0        2111.0   \n",
       "2  3564 2013-01-03          1  AUTOMOTIVE    3.0            0        1833.0   \n",
       "3  5346 2013-01-04          1  AUTOMOTIVE    3.0            0        1863.0   \n",
       "4  7128 2013-01-05          1  AUTOMOTIVE    5.0            0        1509.0   \n",
       "\n",
       "   dcoilwtico   city      state type  cluster  is_holiday  \n",
       "0       93.14  Quito  Pichincha    D       13           1  \n",
       "1       93.14  Quito  Pichincha    D       13           0  \n",
       "2       92.97  Quito  Pichincha    D       13           0  \n",
       "3       93.12  Quito  Pichincha    D       13           0  \n",
       "4       93.12  Quito  Pichincha    D       13           1  "
      ]
     },
     "execution_count": 116,
     "metadata": {},
     "output_type": "execute_result"
    }
   ],
   "source": [
    "# --- Ensure date columns are in datetime format ---\n",
    "sales_data['date'] = pd.to_datetime(sales_data['date'])\n",
    "transactions_data['date'] = pd.to_datetime(transactions_data['date'])\n",
    "holidays_events_data['date'] = pd.to_datetime(holidays_events_data['date'])\n",
    "oil_data['date'] = pd.to_datetime(oil_data['date'])\n",
    "\n",
    "# --- Merge sales with transactions ---\n",
    "sales_base = pd.merge(\n",
    "    sales_data,\n",
    "    transactions_data,\n",
    "    on=['date', 'store_nbr'],\n",
    "    how='left'\n",
    ")\n",
    "\n",
    "# --- Merge with oil prices ---\n",
    "sales_base = pd.merge(\n",
    "    sales_base,\n",
    "    oil_data,\n",
    "    on='date',\n",
    "    how='left'\n",
    ")\n",
    "\n",
    "# --- Merge with store metadata ---\n",
    "sales_base = pd.merge(\n",
    "    sales_base,\n",
    "    stores_data,\n",
    "    on='store_nbr',\n",
    "    how='left'\n",
    ")\n",
    "\n",
    "# --- Add holiday flag (National holidays only) ---\n",
    "usable_holidays = holidays_events_data[holidays_events_data['transferred'] == False]\n",
    "national_holiday_dates = usable_holidays[usable_holidays['locale'] == 'National']['date'].unique()\n",
    "sales_base['is_holiday'] = sales_base['date'].isin(national_holiday_dates).astype(int)\n",
    "\n",
    "# --- Final check ---\n",
    "sales_base = sales_base.sort_values(by=['store_nbr', 'family', 'date']).reset_index(drop=True)\n",
    "\n",
    "# Preview\n",
    "sales_base.head()\n"
   ]
  },
  {
   "cell_type": "markdown",
   "id": "bf5bd03c",
   "metadata": {},
   "source": [
    "## 4. Feature Engineering"
   ]
  },
  {
   "cell_type": "markdown",
   "id": "9873e1d5",
   "metadata": {},
   "source": [
    "### 4.1 Rolling Averages\n",
    "Rolling averages help smooth out daily fluctuations in sales and capture short-term momentum"
   ]
  },
  {
   "cell_type": "code",
   "execution_count": 117,
   "id": "9ff80a42",
   "metadata": {},
   "outputs": [],
   "source": [
    "# Sort by store, family, and date to prepare for rolling\n",
    "sales_base = sales_base.sort_values(by=['store_nbr', 'family', 'date'])\n",
    "\n",
    "# Compute 7-day and 14-day rolling averages of sales\n",
    "sales_base['rolling_avg_7'] = (\n",
    "    sales_base\n",
    "    .groupby(['store_nbr', 'family'])['sales']\n",
    "    .transform(lambda x: x.rolling(window=7, min_periods=1).mean())\n",
    ")\n",
    "\n",
    "sales_base['rolling_avg_14'] = (\n",
    "    sales_base\n",
    "    .groupby(['store_nbr', 'family'])['sales']\n",
    "    .transform(lambda x: x.rolling(window=14, min_periods=1).mean())\n",
    ")\n"
   ]
  },
  {
   "cell_type": "markdown",
   "id": "65ad2024",
   "metadata": {},
   "source": [
    "### 4.2 Lagged Sales\n",
    "Lagged sales features give the model a temporal memory"
   ]
  },
  {
   "cell_type": "code",
   "execution_count": 118,
   "id": "fc63d18f",
   "metadata": {},
   "outputs": [],
   "source": [
    "# Create lagged features for past sales\n",
    "sales_base['sales_lag_1'] = (\n",
    "    sales_base\n",
    "    .groupby(['store_nbr', 'family'])['sales']\n",
    "    .shift(1)\n",
    ")\n",
    "\n",
    "sales_base['sales_lag_7'] = (\n",
    "    sales_base\n",
    "    .groupby(['store_nbr', 'family'])['sales']\n",
    "    .shift(7)\n",
    ")\n",
    "\n",
    "sales_base['sales_lag_14'] = (\n",
    "    sales_base\n",
    "    .groupby(['store_nbr', 'family'])['sales']\n",
    "    .shift(14)\n",
    ")\n"
   ]
  },
  {
   "cell_type": "markdown",
   "id": "7d8ce729",
   "metadata": {},
   "source": [
    "> These features, combined with rolling averages, form the backbone of most demand-aware inventory forecasting models."
   ]
  },
  {
   "cell_type": "markdown",
   "id": "9cb7e3ff",
   "metadata": {},
   "source": [
    "## 5. Export Preprocessed Data"
   ]
  },
  {
   "cell_type": "code",
   "execution_count": 119,
   "id": "86c87a26",
   "metadata": {},
   "outputs": [],
   "source": [
    "import os\n",
    "\n",
    "# Ensure the output directory exists\n",
    "os.makedirs('../data/processed', exist_ok=True)\n",
    "\n",
    "# Save the final processed DataFrame to a CSV\n",
    "sales_base.to_csv('../data/processed/inventory_prepared.csv', index=False)\n"
   ]
  }
 ],
 "metadata": {
  "kernelspec": {
   "display_name": "venv",
   "language": "python",
   "name": "python3"
  },
  "language_info": {
   "codemirror_mode": {
    "name": "ipython",
    "version": 3
   },
   "file_extension": ".py",
   "mimetype": "text/x-python",
   "name": "python",
   "nbconvert_exporter": "python",
   "pygments_lexer": "ipython3",
   "version": "3.13.3"
  }
 },
 "nbformat": 4,
 "nbformat_minor": 5
}
